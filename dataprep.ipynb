{
 "cells": [
  {
   "cell_type": "code",
   "execution_count": null,
   "metadata": {},
   "outputs": [],
   "source": [
    "import csv\n",
    "import timeit\n",
    "import numpy as np\n",
    "import pandas as pd\n",
    "import tensorflow as tf\n",
    "\n",
    "#type these out as you explain what you are gonna do"
   ]
  },
  {
   "cell_type": "code",
   "execution_count": null,
   "metadata": {},
   "outputs": [],
   "source": [
    "file = 'bank-additional-full.csv'\n",
    "\n",
    "#show file"
   ]
  },
  {
   "cell_type": "code",
   "execution_count": null,
   "metadata": {},
   "outputs": [],
   "source": [
    "pythonds=[line.split(';') for line in open(file).readlines()]"
   ]
  },
  {
   "cell_type": "code",
   "execution_count": null,
   "metadata": {},
   "outputs": [],
   "source": [
    "pythonds[1]"
   ]
  },
  {
   "cell_type": "code",
   "execution_count": null,
   "metadata": {},
   "outputs": [],
   "source": [
    "csvds = csv.reader(open(file),delimiter=';')"
   ]
  },
  {
   "cell_type": "code",
   "execution_count": null,
   "metadata": {},
   "outputs": [],
   "source": [
    "csvds[1]"
   ]
  },
  {
   "cell_type": "code",
   "execution_count": null,
   "metadata": {},
   "outputs": [],
   "source": [
    "pandasds = pd.read_csv(file,delimiter=';')"
   ]
  },
  {
   "cell_type": "code",
   "execution_count": null,
   "metadata": {},
   "outputs": [],
   "source": [
    "pandasds.values"
   ]
  },
  {
   "cell_type": "code",
   "execution_count": null,
   "metadata": {
    "code_folding": []
   },
   "outputs": [],
   "source": [
    "#numpy op\n",
    "npds = np.genfromtxt(file, delimiter=';', dtype=None,encoding=\"utf8\")"
   ]
  },
  {
   "cell_type": "code",
   "execution_count": null,
   "metadata": {},
   "outputs": [],
   "source": [
    "npds"
   ]
  },
  {
   "cell_type": "code",
   "execution_count": null,
   "metadata": {
    "code_folding": []
   },
   "outputs": [],
   "source": [
    "#timing ops\n",
    "print(timeit.timeit(lambda: [line.split(';') for line in open('bank-additional-full.csv', 'r').readlines()], number = 10))\n",
    "print(timeit.timeit(lambda: list(csv.reader(open('bank-additional-full.csv', 'r'), delimiter=';')), number = 10))\n",
    "print(timeit.timeit(lambda: pd.read_csv('bank-additional-full.csv', delimiter=';'), number = 10))\n",
    "print(timeit.timeit(lambda: np.genfromtxt('bank-additional-full.csv', delimiter=';', dtype=None,encoding=\"utf8\"), number = 10))"
   ]
  },
  {
   "cell_type": "code",
   "execution_count": null,
   "metadata": {
    "code_folding": []
   },
   "outputs": [],
   "source": [
    "#prepare data for neural network\n",
    "\n",
    "#label encoding\n",
    "#one-hot encoding"
   ]
  },
  {
   "cell_type": "code",
   "execution_count": null,
   "metadata": {
    "code_folding": []
   },
   "outputs": [],
   "source": [
    "#in python\n",
    "y = [0 if row[-1]=='\"no\"\\n' else 1 for row in pythonds[1:]]\n",
    "y"
   ]
  },
  {
   "cell_type": "code",
   "execution_count": null,
   "metadata": {},
   "outputs": [],
   "source": [
    "npds[1:][:,-1]"
   ]
  },
  {
   "cell_type": "code",
   "execution_count": null,
   "metadata": {
    "code_folding": []
   },
   "outputs": [],
   "source": [
    "#in numpy\n",
    "b,c = np.unique(npds[1:][:,-1], return_inverse=True)\n",
    "print(b)\n",
    "print(c)"
   ]
  },
  {
   "cell_type": "code",
   "execution_count": null,
   "metadata": {
    "code_folding": []
   },
   "outputs": [],
   "source": [
    "#in pandas \n",
    "pandasds[\"y\"].astype('category')\n",
    "pandasds[\"y\"].cat.codes"
   ]
  },
  {
   "cell_type": "code",
   "execution_count": null,
   "metadata": {
    "code_folding": []
   },
   "outputs": [],
   "source": [
    "#timing ops\n",
    "print(timeit.timeit(lambda: [0 if row[-1]=='\"no\"\\n' else 1 for row in pythonds[1:]], number = 100))\n",
    "print(timeit.timeit(lambda: np.unique(npds[1:][:,-1], return_inverse=True)[1], number = 100))\n",
    "print(timeit.timeit(lambda: pandasds[\"y\"].cat.codes, number = 100))"
   ]
  },
  {
   "cell_type": "code",
   "execution_count": null,
   "metadata": {
    "code_folding": []
   },
   "outputs": [],
   "source": [
    "#in pandas \n",
    "pd.get_dummies(pandasds, columns=[\"marital\"]).head()"
   ]
  },
  {
   "cell_type": "code",
   "execution_count": null,
   "metadata": {},
   "outputs": [],
   "source": [
    "#in numpy\n",
    "b,c = np.unique(npds[1:][:,2], return_inverse=True)\n",
    "np.eye(b.size)[c][:10]"
   ]
  },
  {
   "cell_type": "code",
   "execution_count": null,
   "metadata": {},
   "outputs": [],
   "source": [
    "#in tensorflow\n",
    "tf.one_hot(np.unique(npds[:,2], return_inverse=True)[1], b.size)"
   ]
  },
  {
   "cell_type": "code",
   "execution_count": null,
   "metadata": {},
   "outputs": [],
   "source": [
    "#timing ops\n",
    "print(timeit.timeit(lambda: pd.get_dummies(pandasds, columns=[\"marital\",'job','education']), number = 100))\n",
    "print(timeit.timeit(lambda: np.eye(b.size)[np.unique(npds[1:][:,2], return_inverse=True)[1]], number = 100))\n",
    "print(timeit.timeit(lambda: tf.one_hot(np.unique(npds[1:][:,2], return_inverse=True)[1],b.size), number = 100))"
   ]
  },
  {
   "cell_type": "code",
   "execution_count": null,
   "metadata": {},
   "outputs": [],
   "source": [
    "#data prep\n",
    "df = pd.get_dummies(pandasds, columns=[\"job\",'marital','education','default','housing','loan','month','day_of_week','poutcome'])\n",
    "df[\"contact\"] = df[\"contact\"].astype('category')\n",
    "df[\"contact\"] = df[\"contact\"].cat.codes\n",
    "df = df.drop(\"duration\", axis=1)\n",
    "df[\"y\"] = df[\"y\"].astype('category')\n",
    "df[\"y\"] = df[\"y\"].cat.codes"
   ]
  },
  {
   "cell_type": "code",
   "execution_count": null,
   "metadata": {},
   "outputs": [],
   "source": [
    "df"
   ]
  },
  {
   "cell_type": "code",
   "execution_count": null,
   "metadata": {},
   "outputs": [],
   "source": [
    "df['y'].value_counts()"
   ]
  },
  {
   "cell_type": "code",
   "execution_count": null,
   "metadata": {
    "code_folding": []
   },
   "outputs": [],
   "source": [
    "#retime upload to pandas df\n",
    "print(timeit.timeit(lambda: pd.DataFrame([line.split(';') for line in open('bank-additional-full.csv', 'r').readlines()]), number = 10))\n",
    "print(timeit.timeit(lambda: pd.DataFrame(list(csv.reader(open('bank-additional-full.csv', 'r'), delimiter=';'))), number = 10))\n",
    "print(timeit.timeit(lambda: pd.read_csv('bank-additional-full.csv', delimiter=';'), number = 10))\n",
    "print(timeit.timeit(lambda: pd.DataFrame(np.genfromtxt('bank-additional-full.csv', delimiter=';', dtype=None,encoding=\"utf8\"), number = 10))"
   ]
  },
  {
   "cell_type": "code",
   "execution_count": null,
   "metadata": {
    "code_folding": []
   },
   "outputs": [],
   "source": [
    "#build, train model\n",
    "df = df.sample(frac=1).reset_index(drop=True)\n",
    "dftrain = df.iloc[:33000]\n",
    "dftest = df.iloc[33000:]\n",
    "dftrainy = dftrain['y']\n",
    "dftesty = dftest['y']\n",
    "dftrain = dftrain.drop(\"y\", axis=1)\n",
    "dftest = dftest.drop(\"y\", axis=1)\n",
    "xtrain = dftrain.values.astype(float)\n",
    "ytrain = dftrainy.values.astype(float)\n",
    "xtest = dftest.values.astype(float)\n",
    "ytest = dftesty.values.astype(float)\n",
    "\n",
    "model = tf.keras.models.Sequential([\n",
    "  tf.keras.layers.Dense(32, input_dim=61, kernel_initializer='random_normal'),\n",
    "  tf.keras.layers.Dense(16, activation='relu',kernel_initializer='random_normal'),\n",
    "  tf.keras.layers.Dense(16, activation='relu',kernel_initializer='random_normal'),\n",
    "  tf.keras.layers.Dense(4, activation='relu',kernel_initializer='random_normal'),\n",
    "  tf.keras.layers.Dense(1, activation='sigmoid', kernel_initializer='random_normal')\n",
    "])\n",
    "\n",
    "model.compile(optimizer='adam',\n",
    "              loss='binary_crossentropy',\n",
    "              metrics=[tf.keras.metrics.AUC(),tf.keras.metrics.Recall(),'accuracy'])\n",
    "\n",
    "model.fit(xtrain, ytrain, epochs=10)\n",
    "\n",
    "model.evaluate(xtest, ytest)\n",
    "preds = model.predict_classes(xtest, verbose=1)"
   ]
  },
  {
   "cell_type": "code",
   "execution_count": null,
   "metadata": {},
   "outputs": [],
   "source": []
  }
 ],
 "metadata": {
  "kernelspec": {
   "display_name": "Python 3",
   "language": "python",
   "name": "python3"
  },
  "language_info": {
   "codemirror_mode": {
    "name": "ipython",
    "version": 3
   },
   "file_extension": ".py",
   "mimetype": "text/x-python",
   "name": "python",
   "nbconvert_exporter": "python",
   "pygments_lexer": "ipython3",
   "version": "3.6.4"
  }
 },
 "nbformat": 4,
 "nbformat_minor": 2
}
